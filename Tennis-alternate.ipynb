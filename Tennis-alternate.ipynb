{
 "cells": [
  {
   "cell_type": "markdown",
   "metadata": {},
   "source": [
    "### Alternate agents each episode so that they can learn play on the left and right"
   ]
  },
  {
   "cell_type": "code",
   "execution_count": 1,
   "metadata": {},
   "outputs": [],
   "source": [
    "%load_ext autoreload\n",
    "%autoreload 2"
   ]
  },
  {
   "cell_type": "code",
   "execution_count": 2,
   "metadata": {},
   "outputs": [],
   "source": [
    "import numpy as np\n",
    "import pandas as pd\n",
    "\n",
    "from base_agent import BaseAgent\n",
    "from ddpg_agent import DDPGAgent\n",
    "from environments import BaseEnvironment, OpenAiEnv, UnityEnv\n",
    "from experiment import Experiment\n",
    "from maddpg_agent import MIADDPG\n",
    "from models import FC, FCDP, FCQV\n",
    "from replay_buffer import ReplayBuffer\n",
    "from strategy import NormalNoiseDecayStrategy\n",
    "from plots import *"
   ]
  },
  {
   "cell_type": "code",
   "execution_count": 3,
   "metadata": {},
   "outputs": [],
   "source": [
    "def create_miaddpg_agent(action_bounds, num_actions, num_states):\n",
    "    actor = FCDP(num_states, action_bounds, (128, 128))\n",
    "    critic = FCQV(num_states, num_actions, (128, 128))\n",
    "    memory = ReplayBuffer(50000)\n",
    "    train_strategy = NormalNoiseDecayStrategy(action_bounds, noise_start=.5, noise_decay=.995)\n",
    "    agent = DDPGAgent(actor, critic, memory, train_strategy,\n",
    "                      gamma=.99,\n",
    "                      batch_size=256,\n",
    "                      actor_lr=3e-4,\n",
    "                      critic_lr=3e-4,\n",
    "                      actor_max_grad_norm=float('inf'),\n",
    "                      critic_max_grad_norm=float('inf'),\n",
    "                      train_every_steps=1,\n",
    "                      update_target_every_steps=1,\n",
    "                      tau=.005)\n",
    "    return agent"
   ]
  },
  {
   "cell_type": "code",
   "execution_count": 4,
   "metadata": {},
   "outputs": [
    {
     "name": "stdout",
     "output_type": "stream",
     "text": [
      "Found path: /home/p.bazan/sources/courses_materials/playground/rl/udacity_p3/Tennis_Linux_NoVis/Tennis.x86_64\n",
      "Mono path[0] = '/home/p.bazan/sources/courses_materials/playground/rl/udacity_p3/Tennis_Linux_NoVis/Tennis_Data/Managed'\n",
      "Mono config path = '/home/p.bazan/sources/courses_materials/playground/rl/udacity_p3/Tennis_Linux_NoVis/Tennis_Data/MonoBleedingEdge/etc'\n",
      "Preloaded 'libgrpc_csharp_ext.x64.so'\n",
      "Unable to preload the following plugins:\n",
      "\tlibgrpc_csharp_ext.x86.so\n",
      "Logging to /home/p.bazan/.config/unity3d/Unity Technologies/Unity Environment/Player.log\n"
     ]
    },
    {
     "name": "stderr",
     "output_type": "stream",
     "text": [
      "INFO:unityagents:\n",
      "'Academy' started successfully!\n",
      "Unity Academy name: Academy\n",
      "        Number of Brains: 1\n",
      "        Number of External Brains : 1\n",
      "        Lesson number : 0\n",
      "        Reset Parameters :\n",
      "\t\t\n",
      "Unity brain name: TennisBrain\n",
      "        Number of Visual Observations (per agent): 0\n",
      "        Vector Observation space type: continuous\n",
      "        Vector Observation space size (per agent): 8\n",
      "        Number of stacked Vector Observation: 3\n",
      "        Vector Action space type: continuous\n",
      "        Vector Action space size (per agent): 2\n",
      "        Vector Action descriptions: , \n"
     ]
    }
   ],
   "source": [
    "env = UnityEnv('Tennis_Linux_NoVis/Tennis.x86_64')\n",
    "env.initialize(True)\n",
    "\n",
    "num_states = env.state_shape[1]\n",
    "num_agents = env.num_agents\n",
    "num_actions = env.num_actions\n",
    "action_bounds = (np.array([-1, -1]), np.array([1, 1]))\n",
    "\n",
    "agents = [create_miaddpg_agent(action_bounds, num_actions, num_states) for i in range(num_agents)]\n",
    "agent = MIADDPG(agents, alternate_agents=True)"
   ]
  },
  {
   "cell_type": "code",
   "execution_count": 5,
   "metadata": {
    "tags": []
   },
   "outputs": [],
   "source": [
    "exp = Experiment(env, agent, target_points=.5, stats_every_episode=10)"
   ]
  },
  {
   "cell_type": "markdown",
   "metadata": {},
   "source": [
    "### Training"
   ]
  },
  {
   "cell_type": "code",
   "execution_count": 5,
   "metadata": {
    "tags": []
   },
   "outputs": [
    {
     "name": "stderr",
     "output_type": "stream",
     "text": [
      "/home/p.bazan/miniconda3/envs/pdrl/lib/python3.8/site-packages/numpy/core/fromnumeric.py:3440: RuntimeWarning: Mean of empty slice.\n",
      "  return _methods._mean(a, axis=axis, dtype=dtype,\n",
      "/home/p.bazan/miniconda3/envs/pdrl/lib/python3.8/site-packages/numpy/core/_methods.py:189: RuntimeWarning: invalid value encountered in double_scalars\n",
      "  ret = ret.dtype.type(ret / rcount)\n"
     ]
    },
    {
     "name": "stdout",
     "output_type": "stream",
     "text": [
      "Episode: 2070, steps: 68, score: 0.20, avg_score: 0.52 agent ▶ avg_loss-0: -0.2 avg_policy_loss-0: -0.2 avg_value_loss-0: 0.0 train_iter-0: 71991 update_iter-0: 71991 memory_size-0: 50000 avg_loss-1: -0.2 avg_policy_loss-1: -0.2 avg_value_loss-1: 0.0 train_iter-1: 71991 update_iter-1: 71991 memory_size-1: 500000\n",
      "Agent passed grading achieving min score:-0.01, mean score: 0.5\n"
     ]
    }
   ],
   "source": [
    "exp.train(10_000)"
   ]
  },
  {
   "cell_type": "code",
   "execution_count": 6,
   "metadata": {},
   "outputs": [],
   "source": [
    "#exp.store('play1-alternate')\n",
    "exp.load('play1-alternate')"
   ]
  },
  {
   "cell_type": "code",
   "execution_count": 7,
   "metadata": {},
   "outputs": [
    {
     "data": {
      "image/png": "[encoded data removed]",
      "text/plain": [
       "<Figure size 1008x288 with 1 Axes>"
      ]
     },
     "metadata": {
      "needs_background": "light"
     },
     "output_type": "display_data"
    }
   ],
   "source": [
    "plot_experiment_stat(exp.history, 'score')\n",
    "plt.savefig('play1_alternate_score.png', dpi=100)"
   ]
  },
  {
   "cell_type": "code",
   "execution_count": 1,
   "metadata": {},
   "outputs": [
    {
     "ename": "NameError",
     "evalue": "name 'plot_agent_stats' is not defined",
     "output_type": "error",
     "traceback": [
      "\u001b[0;31m---------------------------------------------------------------------------\u001b[0m",
      "\u001b[0;31mNameError\u001b[0m                                 Traceback (most recent call last)",
      "\u001b[0;32m/tmp/ipykernel_4648/3679440353.py\u001b[0m in \u001b[0;36m<module>\u001b[0;34m\u001b[0m\n\u001b[0;32m----> 1\u001b[0;31m \u001b[0mplot_agent_stats\u001b[0m\u001b[0;34m(\u001b[0m\u001b[0mexp\u001b[0m\u001b[0;34m.\u001b[0m\u001b[0mhistory\u001b[0m\u001b[0;34m)\u001b[0m\u001b[0;34m\u001b[0m\u001b[0;34m\u001b[0m\u001b[0m\n\u001b[0m\u001b[1;32m      2\u001b[0m \u001b[0mplt\u001b[0m\u001b[0;34m.\u001b[0m\u001b[0msavefig\u001b[0m\u001b[0;34m(\u001b[0m\u001b[0;34m'play1_alternate_agent_stats.png'\u001b[0m\u001b[0;34m,\u001b[0m \u001b[0mdpi\u001b[0m\u001b[0;34m=\u001b[0m\u001b[0;36m100\u001b[0m\u001b[0;34m)\u001b[0m\u001b[0;34m\u001b[0m\u001b[0;34m\u001b[0m\u001b[0m\n",
      "\u001b[0;31mNameError\u001b[0m: name 'plot_agent_stats' is not defined"
     ]
    }
   ],
   "source": [
    "plot_agent_stats(exp.history)\n",
    "plt.savefig('play1_alternate_agent_stats.png', dpi=100)"
   ]
  },
  {
   "cell_type": "markdown",
   "metadata": {},
   "source": [
    "### Evalutation "
   ]
  },
  {
   "cell_type": "code",
   "execution_count": 20,
   "metadata": {},
   "outputs": [
    {
     "name": "stderr",
     "output_type": "stream",
     "text": [
      "100%|██████████████████████████████████████████████████████████████████████████████████████████████████████████████████████████████████████████████████████████████████████████████| 100/100 [05:55<00:00,  3.56s/it]\n"
     ]
    }
   ],
   "source": [
    "df = exp.evaluate(100)"
   ]
  },
  {
   "cell_type": "code",
   "execution_count": 21,
   "metadata": {},
   "outputs": [
    {
     "data": {
      "text/html": [
       "<div>\n",
       "<style scoped>\n",
       "    .dataframe tbody tr th:only-of-type {\n",
       "        vertical-align: middle;\n",
       "    }\n",
       "\n",
       "    .dataframe tbody tr th {\n",
       "        vertical-align: top;\n",
       "    }\n",
       "\n",
       "    .dataframe thead th {\n",
       "        text-align: right;\n",
       "    }\n",
       "</style>\n",
       "<table border=\"1\" class=\"dataframe\">\n",
       "  <thead>\n",
       "    <tr style=\"text-align: right;\">\n",
       "      <th></th>\n",
       "      <th>scores</th>\n",
       "      <th>moves_mse</th>\n",
       "    </tr>\n",
       "  </thead>\n",
       "  <tbody>\n",
       "    <tr>\n",
       "      <th>count</th>\n",
       "      <td>100.00000</td>\n",
       "      <td>100.000000</td>\n",
       "    </tr>\n",
       "    <tr>\n",
       "      <th>mean</th>\n",
       "      <td>1.63950</td>\n",
       "      <td>0.868274</td>\n",
       "    </tr>\n",
       "    <tr>\n",
       "      <th>std</th>\n",
       "      <td>1.23396</td>\n",
       "      <td>0.113733</td>\n",
       "    </tr>\n",
       "    <tr>\n",
       "      <th>min</th>\n",
       "      <td>-0.00500</td>\n",
       "      <td>0.403207</td>\n",
       "    </tr>\n",
       "    <tr>\n",
       "      <th>25%</th>\n",
       "      <td>0.14500</td>\n",
       "      <td>0.841612</td>\n",
       "    </tr>\n",
       "    <tr>\n",
       "      <th>50%</th>\n",
       "      <td>2.60000</td>\n",
       "      <td>0.864878</td>\n",
       "    </tr>\n",
       "    <tr>\n",
       "      <th>75%</th>\n",
       "      <td>2.61250</td>\n",
       "      <td>0.882358</td>\n",
       "    </tr>\n",
       "    <tr>\n",
       "      <th>max</th>\n",
       "      <td>2.65000</td>\n",
       "      <td>1.403098</td>\n",
       "    </tr>\n",
       "  </tbody>\n",
       "</table>\n",
       "</div>"
      ],
      "text/plain": [
       "          scores   moves_mse\n",
       "count  100.00000  100.000000\n",
       "mean     1.63950    0.868274\n",
       "std      1.23396    0.113733\n",
       "min     -0.00500    0.403207\n",
       "25%      0.14500    0.841612\n",
       "50%      2.60000    0.864878\n",
       "75%      2.61250    0.882358\n",
       "max      2.65000    1.403098"
      ]
     },
     "execution_count": 21,
     "metadata": {},
     "output_type": "execute_result"
    }
   ],
   "source": [
    "df.describe()"
   ]
  },
  {
   "cell_type": "code",
   "execution_count": 22,
   "metadata": {},
   "outputs": [
    {
     "data": {
      "image/png": "[encoded data removed]",
      "text/plain": [
       "<Figure size 720x432 with 4 Axes>"
      ]
     },
     "metadata": {
      "needs_background": "light"
     },
     "output_type": "display_data"
    }
   ],
   "source": [
    "plot_evaluation_scores(df)\n",
    "plt.savefig('play1_alternate_eval_scores.png', dpi=100)"
   ]
  }
 ],
 "metadata": {
  "kernelspec": {
   "display_name": "mscred2",
   "language": "python",
   "name": "mscred2"
  },
  "language_info": {
   "codemirror_mode": {
    "name": "ipython",
    "version": 3
   },
   "file_extension": ".py",
   "mimetype": "text/x-python",
   "name": "python",
   "nbconvert_exporter": "python",
   "pygments_lexer": "ipython3",
   "version": "3.8.5"
  }
 },
 "nbformat": 4,
 "nbformat_minor": 4
}
